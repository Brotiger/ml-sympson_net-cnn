{
 "cells": [
  {
   "cell_type": "code",
   "execution_count": 1,
   "id": "0c258a49-0cab-41b7-8e70-113a6bc2310e",
   "metadata": {},
   "outputs": [],
   "source": [
    "epochs = 5\n",
    "gpu_count = 2\n",
    "batch_size = 128\n",
    "\n",
    "train_dir_path = 'train/simpsons_dataset'\n",
    "test_dir_path = 'testset/testset'"
   ]
  },
  {
   "cell_type": "code",
   "execution_count": 2,
   "id": "08bfc1aa-4bda-405a-ab70-a3a40db5ec83",
   "metadata": {},
   "outputs": [],
   "source": [
    "import os\n",
    "\n",
    "os.environ[\"MASTER_ADDR\"] = \"127.0.0.1\"\n",
    "os.environ[\"MASTER_PORT\"] = \"8888\""
   ]
  },
  {
   "cell_type": "code",
   "execution_count": null,
   "id": "e082c8c4-303c-4c72-960c-67d54dbb0841",
   "metadata": {},
   "outputs": [],
   "source": [
    "TRAIN_DIR = Path(train_dir_path)\n",
    "TEST_DIR = Path(test_dir_path)\n",
    "\n",
    "train_val_files = sorted(list(TRAIN_DIR.rglob('*.jpg')))\n",
    "test_files = sorted(list(TEST_DIR.rglob('*.jpg')))\n",
    "\n",
    "from sklearn.model_selection import train_test_split\n",
    "\n",
    "train_val_labels = [path.parent.name for path in train_val_files]\n",
    "train_files, val_files = train_test_split(train_val_files, test_size=0.25, \\\n",
    "                                          stratify=train_val_labels)"
   ]
  },
  {
   "cell_type": "code",
   "execution_count": null,
   "id": "657d0ea1-e181-4aa7-83c9-f8dd2f2d4015",
   "metadata": {},
   "outputs": [],
   "source": [
    "%%time\n",
    "mp.spawn(train.train, nprocs=gpu_count, args=(train_files, val_files, gpu_count, batch_size, epochs,))"
   ]
  }
 ],
 "metadata": {
  "kernelspec": {
   "display_name": "Python 3 (ipykernel)",
   "language": "python",
   "name": "python3"
  },
  "language_info": {
   "codemirror_mode": {
    "name": "ipython",
    "version": 3
   },
   "file_extension": ".py",
   "mimetype": "text/x-python",
   "name": "python",
   "nbconvert_exporter": "python",
   "pygments_lexer": "ipython3",
   "version": "3.10.12"
  }
 },
 "nbformat": 4,
 "nbformat_minor": 5
}
